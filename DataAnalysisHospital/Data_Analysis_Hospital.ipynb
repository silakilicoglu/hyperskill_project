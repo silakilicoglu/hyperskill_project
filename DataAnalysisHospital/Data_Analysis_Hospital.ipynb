{
 "cells": [
  {
   "cell_type": "markdown",
   "metadata": {},
   "source": [
    "## DATA ANALYSIS FOR HOSPITAL"
   ]
  },
  {
   "cell_type": "code",
   "execution_count": 2,
   "metadata": {},
   "outputs": [],
   "source": [
    "import pandas as pd\n",
    "import matplotlib.pyplot as plt"
   ]
  },
  {
   "cell_type": "code",
   "execution_count": 3,
   "metadata": {},
   "outputs": [
    {
     "name": "stdout",
     "output_type": "stream",
     "text": [
      "    Unnamed: 0 hospital gender  age  ...  mri  xray  children months\n",
      "0            0  general    man   33  ...  NaN   NaN       NaN    NaN\n",
      "1            1  general    man   48  ...  NaN   NaN       NaN    NaN\n",
      "2            2  general  woman   23  ...  NaN   NaN       NaN    NaN\n",
      "3            3  general    man   27  ...  NaN   NaN       NaN    NaN\n",
      "4            4  general  woman   22  ...  NaN     f       NaN    NaN\n",
      "5            5  general    man   46  ...  NaN   NaN       NaN    NaN\n",
      "6            6  general  woman   68  ...  NaN   NaN       NaN    NaN\n",
      "7            7  general    man   35  ...  NaN   NaN       NaN    NaN\n",
      "8            8  general  woman   50  ...  NaN     f       NaN    NaN\n",
      "9            9  general    man   25  ...  NaN   NaN       NaN    NaN\n",
      "10          10  general    man   27  ...  NaN   NaN       NaN    NaN\n",
      "11          11  general    man   57  ...  NaN   NaN       NaN    NaN\n",
      "12          12  general    man   29  ...  NaN     f       NaN    NaN\n",
      "13          13  general  woman   18  ...  NaN   NaN       NaN    NaN\n",
      "14          14  general  woman   47  ...  NaN   NaN       NaN    NaN\n",
      "15          15  general  woman   51  ...  NaN   NaN       NaN    NaN\n",
      "16          16  general  woman   56  ...  NaN     t       NaN    NaN\n",
      "17          17  general  woman   38  ...  NaN   NaN       NaN    NaN\n",
      "18          18  general  woman   32  ...  NaN   NaN       NaN    NaN\n",
      "19          19  general  woman   69  ...  NaN     f       NaN    NaN\n",
      "\n",
      "[20 rows x 15 columns]\n",
      "    Unnamed: 0  HOSPITAL  Sex   age  ...  mri  xray  children months\n",
      "0            0  prenatal  NaN  27.0  ...  NaN     f       0.0    3.0\n",
      "1            1  prenatal  NaN  18.0  ...  NaN     f       1.0    5.0\n",
      "2            2  prenatal  NaN  34.0  ...  NaN     f       1.0    5.0\n",
      "3            3  prenatal  NaN  29.0  ...  NaN     f       2.0    3.0\n",
      "4            4  prenatal  NaN  33.0  ...  NaN     f       1.0    7.0\n",
      "5            5  prenatal  NaN  31.0  ...  NaN     f       0.0    3.0\n",
      "6            6  prenatal  NaN  30.0  ...  NaN     f       0.0    5.0\n",
      "7            7  prenatal  NaN  19.0  ...  NaN     f       1.0    6.0\n",
      "8            8  prenatal  NaN  44.0  ...  NaN     f       2.0    6.0\n",
      "9            9  prenatal  NaN  35.0  ...  NaN     f       0.0    6.0\n",
      "10          10  prenatal  NaN  41.0  ...  NaN     f       2.0    7.0\n",
      "11          11  prenatal  NaN  26.0  ...  NaN     f       0.0    7.0\n",
      "12          12  prenatal  NaN  25.0  ...  NaN     f       1.0    5.0\n",
      "13          13  prenatal  NaN  41.0  ...  NaN     f       2.0    8.0\n",
      "14          14  prenatal  NaN  27.0  ...  NaN     f       0.0    6.0\n",
      "15          15  prenatal  NaN  26.0  ...  NaN     f       2.0    2.0\n",
      "16          16  prenatal  NaN  16.0  ...  NaN     f       1.0    4.0\n",
      "17          17  prenatal  NaN  33.0  ...  NaN     f       1.0    9.0\n",
      "18          18  prenatal  NaN  35.0  ...  NaN     f       1.0    8.0\n",
      "19          19  prenatal  NaN  30.0  ...  NaN     f       2.0    9.0\n",
      "\n",
      "[20 rows x 15 columns]\n",
      "    Unnamed: 0 Hospital Male/female   age  ...  mri  xray  children months\n",
      "0            0   sports      female  20.0  ...    t     f       NaN    NaN\n",
      "1            1   sports      female  20.0  ...    f     t       NaN    NaN\n",
      "2            2   sports        male  16.0  ...    f     t       NaN    NaN\n",
      "3            3   sports        male  17.0  ...    t     f       NaN    NaN\n",
      "4            4   sports        male  19.0  ...    f     t       NaN    NaN\n",
      "5            5      NaN         NaN   NaN  ...  NaN   NaN       NaN    NaN\n",
      "6            6   sports      female  14.0  ...    t     f       NaN    NaN\n",
      "7            7   sports      female  22.0  ...    t     f       NaN    NaN\n",
      "8            8   sports      female  21.0  ...    f     t       NaN    NaN\n",
      "9            9   sports      female  18.0  ...    t     f       NaN    NaN\n",
      "10          10   sports        male  12.0  ...    f     t       NaN    NaN\n",
      "11          11   sports        male  15.0  ...    f     t       NaN    NaN\n",
      "12          12   sports      female  22.0  ...    f     f       NaN    NaN\n",
      "13          13   sports      female  19.0  ...    f     t       NaN    NaN\n",
      "14          14   sports      female  16.0  ...    f     t       NaN    NaN\n",
      "15          15   sports      female  19.0  ...    f     t       NaN    NaN\n",
      "16          16   sports        male  18.0  ...    f     t       NaN    NaN\n",
      "17          17   sports      female  18.0  ...    t     f       NaN    NaN\n",
      "18          18   sports        male  19.0  ...    f     t       NaN    NaN\n",
      "19          19   sports      female  17.0  ...    t     f       NaN    NaN\n",
      "\n",
      "[20 rows x 15 columns]\n"
     ]
    }
   ],
   "source": [
    "pd.set_option('display.max_columns', 8)\n",
    "general = pd.read_csv('C:/Users/SK/Desktop/files/test/general.csv')\n",
    "prenatal = pd.read_csv('C:/Users/SK/Desktop/files/test/prenatal.csv')\n",
    "sports = pd.read_csv('C:/Users/SK/Desktop/files/test/sports.csv')\n",
    "print(general.head(20))\n",
    "print(prenatal.head(20))\n",
    "print(sports.head(20))"
   ]
  },
  {
   "cell_type": "markdown",
   "metadata": {},
   "source": [
    "### Change the column names. All column names in the sports and prenatal tables must match the column names in the general table."
   ]
  },
  {
   "cell_type": "code",
   "execution_count": 4,
   "metadata": {},
   "outputs": [],
   "source": [
    "prenatal.rename(columns={'HOSPITAL': 'hospital', 'Sex': 'gender'}, inplace=True)\n",
    "sports.rename(columns={'Hospital': 'hospital', 'Male/female': 'gender'}, inplace=True)"
   ]
  },
  {
   "cell_type": "markdown",
   "metadata": {},
   "source": [
    "### Merge the data frames into one. Use the ignore_index = True parameter and the following order: general, prenatal, sports and removing the row Unnamed: 0"
   ]
  },
  {
   "cell_type": "code",
   "execution_count": 5,
   "metadata": {},
   "outputs": [
    {
     "name": "stdout",
     "output_type": "stream",
     "text": [
      "     hospital  gender   age  height  ...  mri  xray children months\n",
      "928    sports    male  22.0   5.961  ...    t     f      NaN    NaN\n",
      "926    sports    male  26.0   5.804  ...    t     f      NaN    NaN\n",
      "901    sports  female  23.0   5.894  ...    t     f      NaN    NaN\n",
      "87    general     man  54.0   1.720  ...  NaN   NaN      NaN    NaN\n",
      "884    sports  female  20.0   6.771  ...    t     f      NaN    NaN\n",
      "297   general     man  56.0   1.480  ...  NaN   NaN      NaN    NaN\n",
      "112   general     man  77.0   1.690  ...  NaN   NaN      NaN    NaN\n",
      "209   general     man  29.0   2.080  ...  NaN   NaN      NaN    NaN\n",
      "419   general     man  53.0   1.700  ...  NaN   NaN      NaN    NaN\n",
      "913    sports  female  22.0   6.435  ...    t     f      NaN    NaN\n",
      "820    sports  female  17.0   5.722  ...    f     t      NaN    NaN\n",
      "861       NaN     NaN   NaN     NaN  ...  NaN   NaN      NaN    NaN\n",
      "10    general     man  27.0   1.850  ...  NaN   NaN      NaN    NaN\n",
      "56    general     man  23.0   1.650  ...  NaN   NaN      NaN    NaN\n",
      "618  prenatal     NaN  30.0   1.490  ...  NaN     f      0.0    2.0\n",
      "978    sports    male  17.0   5.647  ...    f     f      NaN    NaN\n",
      "373   general   woman  44.0   1.660  ...  NaN   NaN      NaN    NaN\n",
      "628  prenatal     NaN  24.0   1.610  ...  NaN     f      0.0    2.0\n",
      "858    sports    male  19.0   7.089  ...    f     t      NaN    NaN\n",
      "944    sports  female  21.0   6.217  ...    f     t      NaN    NaN\n",
      "\n",
      "[20 rows x 14 columns]\n"
     ]
    }
   ],
   "source": [
    "new_dataset = pd.concat([general, prenatal, sports], ignore_index=True)\n",
    "new_dataset.drop(columns='Unnamed: 0', inplace=True)\n",
    "print(new_dataset.sample(n=20, random_state=30))"
   ]
  },
  {
   "cell_type": "markdown",
   "metadata": {},
   "source": [
    "### Delete all the empty rows and replace the gender column as 'f' for female or woman and 'm' for man or male."
   ]
  },
  {
   "cell_type": "code",
   "execution_count": 6,
   "metadata": {},
   "outputs": [],
   "source": [
    "new_dataset.dropna(axis=0, how=\"all\", inplace=True)\n",
    "new_dataset[\"gender\"].replace([\"male\", \"man\", \"female\", \"woman\"], [\"m\", \"m\", \"f\", \"f\"], inplace=True)\n",
    "new_dataset.loc[(new_dataset[\"hospital\"] == \"prenatal\") & (new_dataset[\"gender\"].isnull()), \"gender\"] = \"f\""
   ]
  },
  {
   "cell_type": "markdown",
   "metadata": {},
   "source": [
    "### Replace NaN values in the bmi, diagnosis, blood_test, ecg, ultrasound, mri, xray, children, months columns with zeros. Print shape of the resulting dataframe and random 20 rows of the resulting dataframe. For the reproducible output set random_state=30"
   ]
  },
  {
   "cell_type": "code",
   "execution_count": 7,
   "metadata": {},
   "outputs": [
    {
     "name": "stdout",
     "output_type": "stream",
     "text": [
      "Data shape: (1000, 14)\n",
      "     hospital gender   age  height  ...  mri  xray children months\n",
      "929    sports      f  23.0   6.809  ...    t     f      0.0    0.0\n",
      "927    sports      m  21.0   6.052  ...    t     f      0.0    0.0\n",
      "516  prenatal      f  20.0   1.650  ...    0     f      1.0    4.0\n",
      "87    general      m  54.0   1.720  ...    0     0      0.0    0.0\n",
      "885    sports      f  16.0   5.915  ...    t     f      0.0    0.0\n",
      "463  prenatal      f  34.0   1.650  ...    0     f      1.0    5.0\n",
      "112   general      m  77.0   1.690  ...    0     0      0.0    0.0\n",
      "297   general      m  56.0   1.480  ...    0     0      0.0    0.0\n",
      "417   general      f  26.0   1.650  ...    0     0      0.0    0.0\n",
      "660  prenatal      f  38.0   1.590  ...    0     f      1.0    4.0\n",
      "344   general      f  60.0   1.410  ...    0     0      0.0    0.0\n",
      "834    sports      f  21.0   5.585  ...    f     t      0.0    0.0\n",
      "10    general      m  27.0   1.850  ...    0     0      0.0    0.0\n",
      "56    general      m  23.0   1.650  ...    0     0      0.0    0.0\n",
      "616  prenatal      f  33.0   1.770  ...    0     f      1.0    7.0\n",
      "479  prenatal      f  35.0   1.810  ...    0     f      1.0    8.0\n",
      "578  prenatal      f  31.0   1.770  ...    0     f      1.0    8.0\n",
      "411   general      m  26.0   1.610  ...    0     0      0.0    0.0\n",
      "521  prenatal      f  30.0   1.740  ...    0     f      1.0    3.0\n",
      "941    sports      f  25.0   6.208  ...    f     t      0.0    0.0\n",
      "\n",
      "[20 rows x 14 columns]\n"
     ]
    }
   ],
   "source": [
    "for x in [\"bmi\", \"diagnosis\", \"blood_test\", \"ecg\", \"ultrasound\", \"mri\", \"xray\", \"children\", \"months\"]:\n",
    "    new_dataset[x].fillna(0, inplace=True)\n",
    "    \n",
    "print(\"Data shape:\", new_dataset.shape)\n",
    "print(new_dataset.sample(n=20, random_state=30))"
   ]
  },
  {
   "cell_type": "markdown",
   "metadata": {},
   "source": [
    "### Find the hospital has the highest number of patients"
   ]
  },
  {
   "cell_type": "code",
   "execution_count": 8,
   "metadata": {},
   "outputs": [
    {
     "name": "stdout",
     "output_type": "stream",
     "text": [
      "The answer to the 1st question is general\n"
     ]
    }
   ],
   "source": [
    "result1 = new_dataset[\"hospital\"].value_counts().idxmax()\n",
    "print(\"The answer to the 1st question is {}\".format(result1))"
   ]
  },
  {
   "cell_type": "markdown",
   "metadata": {},
   "source": [
    "### Find share of the patients in the general hospital suffers from stomach-related issues. Round the result to the third decimal place."
   ]
  },
  {
   "cell_type": "code",
   "execution_count": 9,
   "metadata": {},
   "outputs": [
    {
     "name": "stdout",
     "output_type": "stream",
     "text": [
      "The answer to the 2nd question is 0.325\n"
     ]
    }
   ],
   "source": [
    "number_of_stomach = len(new_dataset[(new_dataset[\"hospital\"] == \"general\") & (new_dataset[\"diagnosis\"] == \"stomach\")])\n",
    "number_of_general = len(new_dataset[new_dataset[\"hospital\"] == \"general\"])\n",
    "result2 = (number_of_stomach / number_of_general)\n",
    "print(\"The answer to the 2nd question is {}\".format(round(result2, 3)))"
   ]
  },
  {
   "cell_type": "markdown",
   "metadata": {},
   "source": [
    "### Find share of the patients in the sports hospital suffers from dislocation-related issues. Round the result to the third decimal place."
   ]
  },
  {
   "cell_type": "code",
   "execution_count": 10,
   "metadata": {},
   "outputs": [
    {
     "name": "stdout",
     "output_type": "stream",
     "text": [
      "The answer to the 3rd question is 0.285\n"
     ]
    }
   ],
   "source": [
    "number_of_sports = len(new_dataset[new_dataset[\"hospital\"] == \"sports\"])\n",
    "number_of_dislocation = len(new_dataset[(new_dataset[\"hospital\"] == \"sports\") & (new_dataset[\"diagnosis\"] == \"dislocation\")])\n",
    "result3 = number_of_dislocation / number_of_sports\n",
    "print(\"The answer to the 3rd question is {}\".format(round(result3, 3)))"
   ]
  },
  {
   "cell_type": "markdown",
   "metadata": {},
   "source": [
    "### Find the difference in the median ages of the patients in the general and sports hospitals."
   ]
  },
  {
   "cell_type": "code",
   "execution_count": 11,
   "metadata": {},
   "outputs": [
    {
     "name": "stdout",
     "output_type": "stream",
     "text": [
      "The answer to the 4th question is 19\n"
     ]
    }
   ],
   "source": [
    "median_ages = new_dataset.pivot_table(index='hospital', values='age', aggfunc='median')\n",
    "result4 = int(median_ages.loc['general', 'age'] - median_ages.loc['sports', 'age'])\n",
    "print(\"The answer to the 4th question is {}\".format(result4))"
   ]
  },
  {
   "cell_type": "markdown",
   "metadata": {},
   "source": [
    "### After data processing at the previous stages, the blood_test column has three values: t= a blood test was taken, f= a blood test wasn't taken, and 0= there is no information. In which hospital the blood test was taken the most often (there is the biggest number of t in the blood_test column among all the hospitals)? How many blood tests were taken?\n"
   ]
  },
  {
   "cell_type": "code",
   "execution_count": 12,
   "metadata": {},
   "outputs": [
    {
     "name": "stdout",
     "output_type": "stream",
     "text": [
      "The answer to the 5th question is prenatal, 325 blood tests\n"
     ]
    }
   ],
   "source": [
    "blood_test_dataset = new_dataset[new_dataset[\"blood_test\"] == \"t\"].groupby(\"hospital\")[\"blood_test\"].value_counts()\n",
    "result5_idx = blood_test_dataset.idxmax()[0]\n",
    "result5 = blood_test_dataset.max()\n",
    "print(\"The answer to the 5th question is {}, {} blood tests\".format(result5_idx, result5))"
   ]
  },
  {
   "cell_type": "markdown",
   "metadata": {},
   "source": [
    "### What is the most common age of a patient among all hospitals? Plot a histogram and choose one of the following age ranges: 0-15, 15-35, 35-55, 55-70, or 70-80\n"
   ]
  },
  {
   "cell_type": "code",
   "execution_count": 13,
   "metadata": {},
   "outputs": [
    {
     "data": {
      "text/plain": [
       "Text(0.5, 0, 'Age')"
      ]
     },
     "execution_count": 13,
     "metadata": {},
     "output_type": "execute_result"
    },
    {
     "data": {
      "image/png": "[encoded data removed]",
      "text/plain": [
       "<Figure size 432x288 with 1 Axes>"
      ]
     },
     "metadata": {
      "needs_background": "light"
     },
     "output_type": "display_data"
    }
   ],
   "source": [
    "plt.figure(1)\n",
    "new_dataset['age'].plot(bins=[0, 15, 35, 55, 70, 80], kind='hist', edgecolor='white')\n",
    "plt.title(\"Patient age\")\n",
    "plt.ylabel(\"Number of people\")\n",
    "plt.xlabel(\"Age\")"
   ]
  },
  {
   "cell_type": "code",
   "execution_count": 14,
   "metadata": {},
   "outputs": [
    {
     "name": "stdout",
     "output_type": "stream",
     "text": [
      "The answer is the 1st question: 15-35\n"
     ]
    }
   ],
   "source": [
    "print(\"The answer is the 1st question: 15-35\")"
   ]
  },
  {
   "cell_type": "markdown",
   "metadata": {},
   "source": [
    "### What is the most common diagnosis among patients in all hospitals? Create a pie chart"
   ]
  },
  {
   "cell_type": "code",
   "execution_count": 15,
   "metadata": {},
   "outputs": [
    {
     "data": {
      "text/plain": [
       "<AxesSubplot:ylabel='diagnosis'>"
      ]
     },
     "execution_count": 15,
     "metadata": {},
     "output_type": "execute_result"
    },
    {
     "data": {
      "image/png": "[encoded data removed]",
      "text/plain": [
       "<Figure size 432x288 with 1 Axes>"
      ]
     },
     "metadata": {},
     "output_type": "display_data"
    }
   ],
   "source": [
    "plt.figure(2)\n",
    "dataset_diagnosis = new_dataset['diagnosis'].value_counts()\n",
    "explode = [0.01] * len(dataset_diagnosis)\n",
    "dataset_diagnosis.plot(kind='pie', explode=explode, autopct='%.1f%%')"
   ]
  },
  {
   "cell_type": "code",
   "execution_count": 16,
   "metadata": {},
   "outputs": [
    {
     "name": "stdout",
     "output_type": "stream",
     "text": [
      "The answer is the 2nd question: pregnancy\n"
     ]
    }
   ],
   "source": [
    "print(\"The answer is the 2nd question: pregnancy\")"
   ]
  },
  {
   "cell_type": "markdown",
   "metadata": {},
   "source": [
    "### Build a violin plot of height distribution by hospitals. Try to answer the questions. What is the main reason for the gap in values? Why there are two peaks, which correspond to the relatively small and big values?"
   ]
  },
  {
   "cell_type": "code",
   "execution_count": 17,
   "metadata": {},
   "outputs": [
    {
     "data": {
      "image/png": "[encoded data removed]",
      "text/plain": [
       "<Figure size 432x288 with 1 Axes>"
      ]
     },
     "metadata": {
      "needs_background": "light"
     },
     "output_type": "display_data"
    }
   ],
   "source": [
    "data_general = new_dataset.loc[new_dataset.hospital == 'general', 'height']\n",
    "data_sports = new_dataset.loc[new_dataset.hospital == 'sports', 'height']\n",
    "data_prenatal = new_dataset.loc[new_dataset.hospital == 'prenatal', 'height']\n",
    "data_list = [data_general, data_sports, data_prenatal]\n",
    "fig, axes = plt.subplots()\n",
    "axes.set_xticks((1, 2, 3))\n",
    "axes.set_xticklabels((\"General\", \"Sports\", \"Prenatal\"))\n",
    "plt.violinplot(data_list, showmeans=True, showmedians=True, showextrema=True)\n",
    "plt.show()\n"
   ]
  },
  {
   "cell_type": "code",
   "execution_count": 18,
   "metadata": {},
   "outputs": [
    {
     "name": "stdout",
     "output_type": "stream",
     "text": [
      "The answer to the 3rd question: It's because sports hospital uses feet as height unit and the other hospitals use meter as height unit.\n"
     ]
    }
   ],
   "source": [
    "print(\"The answer to the 3rd question: It's because sports hospital uses feet as height unit \"\n",
    "      \"and the other hospitals use meter as height unit.\")"
   ]
  }
 ],
 "metadata": {
  "kernelspec": {
   "display_name": "Python 3.8.2 64-bit",
   "language": "python",
   "name": "python3"
  },
  "language_info": {
   "codemirror_mode": {
    "name": "ipython",
    "version": 3
   },
   "file_extension": ".py",
   "mimetype": "text/x-python",
   "name": "python",
   "nbconvert_exporter": "python",
   "pygments_lexer": "ipython3",
   "version": "3.8.2"
  },
  "orig_nbformat": 4,
  "vscode": {
   "interpreter": {
    "hash": "570feb405e2e27c949193ac68f46852414290d515b0ba6e5d90d076ed2284471"
   }
  }
 },
 "nbformat": 4,
 "nbformat_minor": 2
}
