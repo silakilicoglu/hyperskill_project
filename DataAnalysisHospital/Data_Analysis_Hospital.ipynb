{
 "cells": [
  {
   "cell_type": "markdown",
   "metadata": {},
   "source": [
    "## DATA ANALYSIS FOR HOSPITAL"
   ]
  },
  {
   "cell_type": "code",
   "execution_count": null,
   "metadata": {},
   "outputs": [
    {
     "ename": "ModuleNotFoundError",
     "evalue": "No module named 'pandas'",
     "output_type": "error",
     "traceback": [
      "\u001b[1;31m---------------------------------------------------------------------------\u001b[0m",
      "\u001b[1;31mModuleNotFoundError\u001b[0m                       Traceback (most recent call last)",
      "\u001b[1;32mc:\\Users\\SK\\Desktop\\Data_Analysis_Hospital.ipynb Cell 2'\u001b[0m in \u001b[0;36m<cell line: 1>\u001b[1;34m()\u001b[0m\n\u001b[1;32m----> <a href='vscode-notebook-cell:/c%3A/Users/SK/Desktop/Data_Analysis_Hospital.ipynb#ch0000001?line=0'>1</a>\u001b[0m \u001b[39mimport\u001b[39;00m \u001b[39mpandas\u001b[39;00m \u001b[39mas\u001b[39;00m \u001b[39mpd\u001b[39;00m\n\u001b[0;32m      <a href='vscode-notebook-cell:/c%3A/Users/SK/Desktop/Data_Analysis_Hospital.ipynb#ch0000001?line=1'>2</a>\u001b[0m \u001b[39mimport\u001b[39;00m \u001b[39mmatplotlib\u001b[39;00m\u001b[39m.\u001b[39;00m\u001b[39mpyplot\u001b[39;00m \u001b[39mas\u001b[39;00m \u001b[39mplt\u001b[39;00m\n",
      "\u001b[1;31mModuleNotFoundError\u001b[0m: No module named 'pandas'"
     ]
    }
   ],
   "source": [
    "import pandas as pd\n",
    "import matplotlib.pyplot as plt"
   ]
  },
  {
   "cell_type": "code",
   "execution_count": null,
   "metadata": {},
   "outputs": [],
   "source": [
    "pd.set_option('display.max_columns', 8)\n",
    "general = pd.read_csv('C:/Users/SK/Desktop/files/test/general.csv')\n",
    "prenatal = pd.read_csv('C:/Users/SK/Desktop/files/test/prenatal.csv')\n",
    "sports = pd.read_csv('C:/Users/SK/Desktop/files/test/sports.csv')\n",
    "print(general.head(20))\n",
    "print(prenatal.head(20))\n",
    "print(sports.head(20))"
   ]
  },
  {
   "cell_type": "markdown",
   "metadata": {},
   "source": [
    "### Change the column names. All column names in the sports and prenatal tables must match the column names in the general table."
   ]
  },
  {
   "cell_type": "code",
   "execution_count": null,
   "metadata": {},
   "outputs": [],
   "source": [
    "prenatal.rename(columns={'HOSPITAL': 'hospital', 'Sex': 'gender'}, inplace=True)\n",
    "sports.rename(columns={'Hospital': 'hospital', 'Male/female': 'gender'}, inplace=True)"
   ]
  },
  {
   "cell_type": "markdown",
   "metadata": {},
   "source": [
    "### Merge the data frames into one. Use the ignore_index = True parameter and the following order: general, prenatal, sports and removing the row Unnamed: 0"
   ]
  },
  {
   "cell_type": "code",
   "execution_count": null,
   "metadata": {},
   "outputs": [],
   "source": [
    "new_dataset = pd.concat([general, prenatal, sports], ignore_index=True)\n",
    "new_dataset.drop(columns='Unnamed: 0', inplace=True)\n",
    "print(new_dataset.sample(n=20, random_state=30))"
   ]
  },
  {
   "cell_type": "markdown",
   "metadata": {},
   "source": [
    "### Delete all the empty rows and replace the gender column as 'f' for female or woman and 'm' for man or male."
   ]
  },
  {
   "cell_type": "code",
   "execution_count": null,
   "metadata": {},
   "outputs": [],
   "source": [
    "new_dataset.dropna(axis=0, how=\"all\", inplace=True)\n",
    "new_dataset[\"gender\"].replace([\"male\", \"man\", \"female\", \"woman\"], [\"m\", \"m\", \"f\", \"f\"], inplace=True)\n",
    "new_dataset.loc[(new_dataset[\"hospital\"] == \"prenatal\") & (new_dataset[\"gender\"].isnull()), \"gender\"] = \"f\""
   ]
  },
  {
   "cell_type": "markdown",
   "metadata": {},
   "source": [
    "### Replace NaN values in the bmi, diagnosis, blood_test, ecg, ultrasound, mri, xray, children, months columns with zeros. Print shape of the resulting dataframe and random 20 rows of the resulting dataframe. For the reproducible output set random_state=30"
   ]
  },
  {
   "cell_type": "code",
   "execution_count": null,
   "metadata": {},
   "outputs": [],
   "source": [
    "for x in [\"bmi\", \"diagnosis\", \"blood_test\", \"ecg\", \"ultrasound\", \"mri\", \"xray\", \"children\", \"months\"]:\n",
    "    new_dataset[x].fillna(0, inplace=True)\n",
    "    \n",
    "print(\"Data shape:\", new_dataset.shape)\n",
    "print(new_dataset.sample(n=20, random_state=30))"
   ]
  },
  {
   "cell_type": "markdown",
   "metadata": {},
   "source": [
    "### Find the hospital has the highest number of patients"
   ]
  },
  {
   "cell_type": "code",
   "execution_count": null,
   "metadata": {},
   "outputs": [],
   "source": [
    "result1 = new_dataset[\"hospital\"].value_counts().idxmax()\n",
    "print(\"The answer to the 1st question is {}\".format(result1))"
   ]
  },
  {
   "cell_type": "markdown",
   "metadata": {},
   "source": [
    "### Find share of the patients in the general hospital suffers from stomach-related issues. Round the result to the third decimal place."
   ]
  },
  {
   "cell_type": "code",
   "execution_count": null,
   "metadata": {},
   "outputs": [],
   "source": [
    "number_of_stomach = len(new_dataset[(new_dataset[\"hospital\"] == \"general\") & (new_dataset[\"diagnosis\"] == \"stomach\")])\n",
    "number_of_general = len(new_dataset[new_dataset[\"hospital\"] == \"general\"])\n",
    "result2 = (number_of_stomach / number_of_general)\n",
    "print(\"The answer to the 2nd question is {}\".format(round(result2, 3)))"
   ]
  },
  {
   "cell_type": "markdown",
   "metadata": {},
   "source": [
    "### Find share of the patients in the sports hospital suffers from dislocation-related issues. Round the result to the third decimal place."
   ]
  },
  {
   "cell_type": "code",
   "execution_count": null,
   "metadata": {},
   "outputs": [],
   "source": [
    "number_of_sports = len(new_dataset[new_dataset[\"hospital\"] == \"sports\"])\n",
    "number_of_dislocation = len(new_dataset[(new_dataset[\"hospital\"] == \"sports\") & (new_dataset[\"diagnosis\"] == \"dislocation\")])\n",
    "result3 = number_of_dislocation / number_of_sports\n",
    "print(\"The answer to the 3rd question is {}\".format(round(result3, 3)))"
   ]
  },
  {
   "cell_type": "markdown",
   "metadata": {},
   "source": [
    "### Find the difference in the median ages of the patients in the general and sports hospitals."
   ]
  },
  {
   "cell_type": "code",
   "execution_count": null,
   "metadata": {},
   "outputs": [],
   "source": [
    "median_ages = new_dataset.pivot_table(index='hospital', values='age', aggfunc='median')\n",
    "result4 = int(median_ages.loc['general', 'age'] - median_ages.loc['sports', 'age'])\n",
    "print(\"The answer to the 4th question is {}\".format(result4))"
   ]
  },
  {
   "cell_type": "markdown",
   "metadata": {},
   "source": [
    "### After data processing at the previous stages, the blood_test column has three values: t= a blood test was taken, f= a blood test wasn't taken, and 0= there is no information. In which hospital the blood test was taken the most often (there is the biggest number of t in the blood_test column among all the hospitals)? How many blood tests were taken?\n"
   ]
  },
  {
   "cell_type": "code",
   "execution_count": null,
   "metadata": {},
   "outputs": [],
   "source": [
    "blood_test_dataset = new_dataset[new_dataset[\"blood_test\"] == \"t\"].groupby(\"hospital\")[\"blood_test\"].value_counts()\n",
    "result5_idx = blood_test_dataset.idxmax()[0]\n",
    "result5 = blood_test_dataset.max()\n",
    "print(\"The answer to the 5th question is {}, {} blood tests\".format(result5_idx, result5))"
   ]
  },
  {
   "cell_type": "markdown",
   "metadata": {},
   "source": [
    "### What is the most common age of a patient among all hospitals? Plot a histogram and choose one of the following age ranges: 0-15, 15-35, 35-55, 55-70, or 70-80\n"
   ]
  },
  {
   "cell_type": "code",
   "execution_count": null,
   "metadata": {},
   "outputs": [],
   "source": [
    "plt.figure(1)\n",
    "new_dataset['age'].plot(bins=[0, 15, 35, 55, 70, 80], kind='hist', edgecolor='white')\n",
    "plt.title(\"Patient age\")\n",
    "plt.ylabel(\"Number of people\")\n",
    "plt.xlabel(\"Age\")"
   ]
  },
  {
   "cell_type": "code",
   "execution_count": null,
   "metadata": {},
   "outputs": [],
   "source": [
    "print(\"The answer is the 1st question: 15-35\")"
   ]
  },
  {
   "cell_type": "markdown",
   "metadata": {},
   "source": [
    "### What is the most common diagnosis among patients in all hospitals? Create a pie chart"
   ]
  },
  {
   "cell_type": "code",
   "execution_count": null,
   "metadata": {},
   "outputs": [],
   "source": [
    "plt.figure(2)\n",
    "dataset_diagnosis = new_dataset['diagnosis'].value_counts()\n",
    "explode = [0.01] * len(dataset_diagnosis)\n",
    "dataset_diagnosis.plot(kind='pie', explode=explode, autopct='%.1f%%')"
   ]
  },
  {
   "cell_type": "code",
   "execution_count": null,
   "metadata": {},
   "outputs": [],
   "source": [
    "print(\"The answer is the 2nd question: pregnancy\")"
   ]
  },
  {
   "cell_type": "markdown",
   "metadata": {},
   "source": [
    "### Build a violin plot of height distribution by hospitals. Try to answer the questions. What is the main reason for the gap in values? Why there are two peaks, which correspond to the relatively small and big values?"
   ]
  },
  {
   "cell_type": "code",
   "execution_count": null,
   "metadata": {},
   "outputs": [],
   "source": [
    "data_general = new_dataset.loc[new_dataset.hospital == 'general', 'height']\n",
    "data_sports = new_dataset.loc[new_dataset.hospital == 'sports', 'height']\n",
    "data_prenatal = new_dataset.loc[new_dataset.hospital == 'prenatal', 'height']\n",
    "data_list = [data_general, data_sports, data_prenatal]\n",
    "fig, axes = plt.subplots()\n",
    "axes.set_xticks((1, 2, 3))\n",
    "axes.set_xticklabels((\"General\", \"Sports\", \"Prenatal\"))\n",
    "plt.violinplot(data_list, showmeans=True, showmedians=True, showextrema=True)\n",
    "plt.show()\n"
   ]
  },
  {
   "cell_type": "code",
   "execution_count": null,
   "metadata": {},
   "outputs": [],
   "source": [
    "print(\"The answer to the 3rd question: It's because sports hospital uses feet as height unit \"\n",
    "      \"and the other hospitals use meter as height unit.\")"
   ]
  }
 ],
 "metadata": {
  "kernelspec": {
   "display_name": "Python 3.8.2 64-bit",
   "language": "python",
   "name": "python3"
  },
  "language_info": {
   "codemirror_mode": {
    "name": "ipython",
    "version": 3
   },
   "file_extension": ".py",
   "mimetype": "text/x-python",
   "name": "python",
   "nbconvert_exporter": "python",
   "pygments_lexer": "ipython3",
   "version": "3.8.2"
  },
  "orig_nbformat": 4,
  "vscode": {
   "interpreter": {
    "hash": "570feb405e2e27c949193ac68f46852414290d515b0ba6e5d90d076ed2284471"
   }
  }
 },
 "nbformat": 4,
 "nbformat_minor": 2
}
